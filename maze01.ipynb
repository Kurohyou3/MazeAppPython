{
 "cells": [
  {
   "metadata": {
    "ExecuteTime": {
     "end_time": "2025-06-23T02:22:37.215051Z",
     "start_time": "2025-06-23T02:22:37.202338Z"
    }
   },
   "cell_type": "code",
   "source": [
    "import random\n",
    "from dataclasses import dataclass\n",
    "from typing import List, Tuple\n",
    "\n",
    "# --- 定数定義 ---\n",
    "WIDTH, HEIGHT = 10, 10        # 迷路のセル数\n",
    "START, GOAL   = (1, 1), (8, 8) # 座標系は (x, y)\n",
    "\n",
    "# --- データ構造 ---\n",
    "@dataclass\n",
    "class Maze:\n",
    "    vert_walls: List[List[bool]]      # 垂直壁 (y, x)  長さ: HEIGHT × (WIDTH-1)\n",
    "    horiz_walls: List[List[bool]]     # 水平壁 (y, x)  長さ: (HEIGHT-1) × WIDTH\n",
    "\n",
    "def generate_maze() -> Maze:\n",
    "    \"\"\"再帰的バックトラッキングで木構造を生成し、壁の有無で保持する。\"\"\"\n",
    "    visited = [[False]*WIDTH for _ in range(HEIGHT)]\n",
    "    vert   = [[True]*(WIDTH-1) for _ in range(HEIGHT)]     # True = 壁あり\n",
    "    horiz  = [[True]*WIDTH      for _ in range(HEIGHT-1)]\n",
    "\n",
    "    stack: List[Tuple[int, int]] = [START]\n",
    "    visited[START[1]][START[0]] = True                    # y, x の順に注意\n",
    "\n",
    "    while stack:\n",
    "        x, y = stack[-1]\n",
    "\n",
    "        # 未訪問の隣接セルを列挙\n",
    "        candidates = []\n",
    "        if x > 0           and not visited[y][x-1]: candidates.append(('L', x-1, y))\n",
    "        if x < WIDTH-1     and not visited[y][x+1]: candidates.append(('R', x+1, y))\n",
    "        if y > 0           and not visited[y-1][x]: candidates.append(('U', x, y-1))\n",
    "        if y < HEIGHT-1    and not visited[y+1][x]: candidates.append(('D', x, y+1))\n",
    "\n",
    "        if candidates:\n",
    "            direction, nx, ny = random.choice(candidates)\n",
    "\n",
    "            # 壁を破壊\n",
    "            if direction == 'L':  vert[y][x-1]   = False\n",
    "            if direction == 'R':  vert[y][x]     = False\n",
    "            if direction == 'U':  horiz[y-1][x]  = False\n",
    "            if direction == 'D':  horiz[y][x]    = False\n",
    "\n",
    "            visited[ny][nx] = True\n",
    "            stack.append((nx, ny))\n",
    "        else:\n",
    "            stack.pop()\n",
    "\n",
    "    return Maze(vert, horiz)\n",
    "\n",
    "def render_maze(m: Maze) -> str:\n",
    "    \"\"\"壁を #, 通路を空白にして文字列化。\"\"\"\n",
    "    w, h = WIDTH, HEIGHT\n",
    "    cells = [['#'] * (2*w + 1) for _ in range(2*h + 1)]\n",
    "\n",
    "    for y in range(h):\n",
    "        for x in range(w):\n",
    "            cx, cy = 2*x + 1, 2*y + 1\n",
    "            cells[cy][cx] = ' '                       # セル本体\n",
    "\n",
    "            # 左右上下の壁を確認し、無ければ空白を開通\n",
    "            if x > 0 and not m.vert_walls[y][x-1]: cells[cy][cx-1] = ' '\n",
    "            if x < w-1 and not m.vert_walls[y][x]: cells[cy][cx+1] = ' '\n",
    "            if y > 0 and not m.horiz_walls[y-1][x]: cells[cy-1][cx] = ' '\n",
    "            if y < h-1 and not m.horiz_walls[y][x]: cells[cy+1][cx] = ' '\n",
    "\n",
    "    # スタートとゴールを目印付きで表示\n",
    "    sx, sy = START; gx, gy = GOAL\n",
    "    cells[2*sy+1][2*sx+1] = 'S'\n",
    "    cells[2*gy+1][2*gx+1] = 'G'\n",
    "\n",
    "    return '\\n'.join(''.join(row) for row in cells)\n"
   ],
   "id": "8aebbc987dc1a8c",
   "outputs": [],
   "execution_count": 7
  },
  {
   "metadata": {
    "ExecuteTime": {
     "end_time": "2025-06-23T02:29:05.201048Z",
     "start_time": "2025-06-23T02:29:05.186086Z"
    }
   },
   "cell_type": "code",
   "source": [
    "if __name__ == \"__main__\":\n",
    "    maze = generate_maze()\n",
    "    printable = render_maze(maze)\n",
    "    print(printable)\n"
   ],
   "id": "e0734161c87afbd3",
   "outputs": [
    {
     "name": "stdout",
     "output_type": "stream",
     "text": [
      "#####################\n",
      "#   # #       #   # #\n",
      "# # # # # ### # # # #\n",
      "# #S#   #   #   #   #\n",
      "# ######### ####### #\n",
      "# #   #     #     # #\n",
      "# # # # ##### ### # #\n",
      "#   #   #     #   # #\n",
      "######### ### # ### #\n",
      "#       # #   # #   #\n",
      "# # ##### # ##### ###\n",
      "# #   #   #   #   # #\n",
      "# ### # ##### # ### #\n",
      "# # # # #     # #   #\n",
      "# # # # # # ### # ###\n",
      "#   #   # # #   #   #\n",
      "### ##### ### ### # #\n",
      "# #   # # #   #  G# #\n",
      "# ### # # # ####### #\n",
      "#       #           #\n",
      "#####################\n"
     ]
    }
   ],
   "execution_count": 14
  },
  {
   "metadata": {
    "ExecuteTime": {
     "end_time": "2025-06-23T02:30:07.540494Z",
     "start_time": "2025-06-23T02:30:07.528354Z"
    }
   },
   "cell_type": "code",
   "source": [
    "def render_maze_compact(m: Maze) -> str:\n",
    "    \"\"\"\n",
    "    壁を次の文字で描画し、行数を (HEIGHT + 1) 行に縮小する。\n",
    "    ────────────────────────────────────────────────\n",
    "        '_' : 底辺（水平壁）\n",
    "        '|' : 右辺（垂直壁）\n",
    "        ' ' : 通路\n",
    "        'S','G' : スタート / ゴール\n",
    "    \"\"\"\n",
    "    w, h = WIDTH, HEIGHT\n",
    "    # 上辺（外周）の水平壁\n",
    "    lines = [' ' + '_' * w]           # 例)  \" ____________\"（先頭の空白は左上角の柱）\n",
    "\n",
    "    for y in range(h):\n",
    "        row = ['|']                   # 行頭は必ず左外壁\n",
    "        for x in range(w):\n",
    "            # デフォルトは通路\n",
    "            char = ' '\n",
    "            if (x, y) == START: char = 'S'\n",
    "            elif (x, y) == GOAL: char = 'G'\n",
    "\n",
    "            # 下側の水平壁を描画\n",
    "            if y == h - 1:                            # 最下段は必ず外壁\n",
    "                char = '_' if char == ' ' else char\n",
    "            elif m.horiz_walls[y][x]:                 # 内部壁の場合\n",
    "                char = '_' if char == ' ' else char\n",
    "\n",
    "            # 右側の垂直壁を描画\n",
    "            if x == w - 1:                            # 右外周は必ず壁\n",
    "                row.append(char + '|')\n",
    "            elif m.vert_walls[y][x]:                  # 内部壁\n",
    "                row.append(char + '|')\n",
    "            else:                                     # 壁が無い場合は空白\n",
    "                row.append(char + ' ')\n",
    "        lines.append(''.join(row))\n",
    "    return '\\n'.join(lines)\n"
   ],
   "id": "ac5852f3ab11fe94",
   "outputs": [],
   "execution_count": 15
  },
  {
   "metadata": {
    "ExecuteTime": {
     "end_time": "2025-06-23T02:30:36.255884Z",
     "start_time": "2025-06-23T02:30:36.250104Z"
    }
   },
   "cell_type": "code",
   "source": [
    "if __name__ == \"__main__\":\n",
    "    maze = generate_maze()\n",
    "\n",
    "    print(\"◆ 従来のフルスケール表示\")\n",
    "    print(render_maze(maze))\n",
    "\n",
    "    print(\"\\n◆ コンパクト表示\")\n",
    "    print(render_maze_compact(maze))\n"
   ],
   "id": "9765dfa96477d4d1",
   "outputs": [
    {
     "name": "stdout",
     "output_type": "stream",
     "text": [
      "◆ 従来のフルスケール表示\n",
      "#####################\n",
      "#             #     #\n",
      "# ########### # ### #\n",
      "# #S        # #   # #\n",
      "# ######### ### # # #\n",
      "#         #   # # # #\n",
      "# # # ####### ### # #\n",
      "# # # #     #     # #\n",
      "# # ### ### ####### #\n",
      "# #     #       # # #\n",
      "# ####### ##### # # #\n",
      "#     #   #   #   # #\n",
      "####### ##### ### # #\n",
      "#       #   #     # #\n",
      "# ####### # # ##### #\n",
      "# #       # # #   # #\n",
      "# # ####### # # # # #\n",
      "# #   #   # # # #G  #\n",
      "# ### # # # ### #####\n",
      "#       # #         #\n",
      "#####################\n",
      "\n",
      "◆ コンパクト表示\n",
      " __________\n",
      "|  _ _ _ _ _  |  _  |\n",
      "| |S _ _ _  |_|   | |\n",
      "|      _ _|_  |_| | |\n",
      "| | |_|  _  |_ _ _| |\n",
      "| |_ _ _|  _ _  | | |\n",
      "|_ _ _|  _|_  |_  | |\n",
      "|  _ _ _|   |  _ _| |\n",
      "| |  _ _ _| | |   | |\n",
      "| |_  |   | |_| |G _|\n",
      "|_ _ _ _|_|_ _ _ _ _|\n"
     ]
    }
   ],
   "execution_count": 17
  },
  {
   "metadata": {
    "ExecuteTime": {
     "end_time": "2025-06-23T02:34:10.233117Z",
     "start_time": "2025-06-23T02:34:10.222178Z"
    }
   },
   "cell_type": "code",
   "source": [
    "def generate_maze_limited() -> Maze:\n",
    "    \"\"\"\n",
    "    直線が 5 マス以上続かないよう制御した DFS 版迷路生成。\n",
    "    \"\"\"\n",
    "    visited = [[False]*WIDTH for _ in range(HEIGHT)]\n",
    "    vert   = [[True]*(WIDTH-1) for _ in range(HEIGHT)]\n",
    "    horiz  = [[True]*WIDTH      for _ in range(HEIGHT-1)]\n",
    "\n",
    "    # スタック要素: (x, y, prev_dir, run_len)\n",
    "    stack: List[Tuple[int, int, str, int]] = [(START[0], START[1], '', 0)]\n",
    "    visited[START[1]][START[0]] = True\n",
    "\n",
    "    while stack:\n",
    "        x, y, prev_dir, run_len = stack[-1]\n",
    "\n",
    "        # 未訪問の隣接セルを列挙\n",
    "        neighbors = []\n",
    "        if x > 0        and not visited[y][x-1]: neighbors.append(('L', x-1, y))\n",
    "        if x < WIDTH-1  and not visited[y][x+1]: neighbors.append(('R', x+1, y))\n",
    "        if y > 0        and not visited[y-1][x]: neighbors.append(('U', x, y-1))\n",
    "        if y < HEIGHT-1 and not visited[y+1][x]: neighbors.append(('D', x, y+1))\n",
    "\n",
    "        # 直線 5 マス禁止フィルタ\n",
    "        if run_len >= 4 and neighbors:\n",
    "            filtered = [nb for nb in neighbors if nb[0] != prev_dir]\n",
    "            if filtered:                          # 少なくとも一方向残れば差し替え\n",
    "                neighbors = filtered\n",
    "\n",
    "        if neighbors:\n",
    "            direction, nx, ny = random.choice(neighbors)\n",
    "\n",
    "            # 壁破壊\n",
    "            if direction == 'L':  vert[y][x-1]   = False\n",
    "            if direction == 'R':  vert[y][x]     = False\n",
    "            if direction == 'U':  horiz[y-1][x]  = False\n",
    "            if direction == 'D':  horiz[y][x]    = False\n",
    "\n",
    "            visited[ny][nx] = True\n",
    "            next_run = run_len + 1 if direction == prev_dir else 1\n",
    "            stack.append((nx, ny, direction, next_run))\n",
    "        else:\n",
    "            stack.pop()\n",
    "\n",
    "    return Maze(vert, horiz)\n"
   ],
   "id": "7058687913e6e50e",
   "outputs": [],
   "execution_count": 18
  },
  {
   "metadata": {
    "ExecuteTime": {
     "end_time": "2025-06-23T02:34:28.383004Z",
     "start_time": "2025-06-23T02:34:28.375620Z"
    }
   },
   "cell_type": "code",
   "source": [
    "if __name__ == \"__main__\":\n",
    "    maze = generate_maze_limited()\n",
    "\n",
    "    print(\"◆ 従来のフルスケール表示\")\n",
    "    print(render_maze(maze))\n",
    "\n",
    "    print(\"\\n◆ コンパクト表示\")\n",
    "    print(render_maze_compact(maze))"
   ],
   "id": "6838775fd92e13e",
   "outputs": [
    {
     "name": "stdout",
     "output_type": "stream",
     "text": [
      "◆ 従来のフルスケール表示\n",
      "#####################\n",
      "#     #     #       #\n",
      "# ##### ### ### ### #\n",
      "# #S    # #   # # # #\n",
      "# ####### ### # # # #\n",
      "# #       # # #   # #\n",
      "# # ### # # # ##### #\n",
      "#   # # # # #       #\n",
      "# ### # # # ####### #\n",
      "#     # #         # #\n",
      "##### # ### ####### #\n",
      "# #   #   # #   #   #\n",
      "# # ##### ### # # ###\n",
      "# #   # #     #   # #\n",
      "# ### # ########### #\n",
      "#     #             #\n",
      "# ##### ######### # #\n",
      "# #     #     #  G# #\n",
      "# ####### ### # ### #\n",
      "#         #     #   #\n",
      "#####################\n",
      "\n",
      "◆ コンパクト表示\n",
      " __________\n",
      "|  _ _|  _  |_   _  |\n",
      "| |S _ _| |_  | | | |\n",
      "| |  _    | | |_ _| |\n",
      "|  _| | | | |_ _ _  |\n",
      "|_ _  | |_   _ _ _| |\n",
      "| |  _|_  |_|   |  _|\n",
      "| |_  | |_ _ _|_ _| |\n",
      "|  _ _|  _ _ _ _    |\n",
      "| |_ _ _|  _  |  G| |\n",
      "|_ _ _ _ _|_ _ _|_ _|\n"
     ]
    }
   ],
   "execution_count": 19
  },
  {
   "metadata": {},
   "cell_type": "code",
   "outputs": [],
   "execution_count": null,
   "source": "",
   "id": "4b67f1d332e4858e"
  }
 ],
 "metadata": {
  "kernelspec": {
   "display_name": "Python 3",
   "language": "python",
   "name": "python3"
  },
  "language_info": {
   "codemirror_mode": {
    "name": "ipython",
    "version": 2
   },
   "file_extension": ".py",
   "mimetype": "text/x-python",
   "name": "python",
   "nbconvert_exporter": "python",
   "pygments_lexer": "ipython2",
   "version": "2.7.6"
  }
 },
 "nbformat": 4,
 "nbformat_minor": 5
}
